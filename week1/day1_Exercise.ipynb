{
 "cells": [
  {
   "cell_type": "code",
   "execution_count": 2,
   "id": "26a731da",
   "metadata": {
    "scrolled": true,
    "vscode": {
     "languageId": "plaintext"
    }
   },
   "outputs": [],
   "source": [
    "import os\n",
    "import requests\n",
    "from dotenv import load_dotenv\n",
    "from bs4 import BeautifulSoup\n",
    "from IPython.display import Markdown, display\n",
    "from openai import OpenAI"
   ]
  },
  {
   "cell_type": "code",
   "execution_count": 5,
   "id": "cf82a0ea-26c7-43e8-a09f-ab3c960601cd",
   "metadata": {},
   "outputs": [],
   "source": [
    "load_dotenv(override=True)\n",
    "api_key = os.getenv('OPENAI_API_KEY')"
   ]
  },
  {
   "cell_type": "code",
   "execution_count": null,
   "id": "9646d220-0b4c-4b03-8bdc-c881a3223353",
   "metadata": {},
   "outputs": [],
   "source": [
    "headers = {\n",
    " \"User-Agent\": \"Mozilla/5.0 (Windows NT 10.0; Win64; x64) AppleWebKit/537.36 (KHTML, like Gecko) Chrome/117.0.0.0 Safari/537.36\"\n",
    "}\n",
    "\n",
    "class Website:\n",
    "\n",
    "  def __init__(self, url):\n",
    "    response = requests.get(url, headers=headers)\n",
    "    soup = BeautifulSoup(response.content, 'html.parser')\n",
    "    self.title = soup.title.string if soup.title else \"No title found\"\n",
    "    for irrelevant in soup.body([\"script\", \"style\", \"img\", \"input\"]):\n",
    "      irrelevant.decompose()\n",
    "    self.text = soup.body.get_text(separator=\"\\n\", strip=True)\n",
    "\n",
    "ed = Website(\"https://edwarddonner.com\")\n",
    "# print(ed.title)\n",
    "# print(ed.text)\n",
    "\n",
    "system_prompt = \"You are an assistant that analyzes the contents of a website \\\n",
    "and provides a short summary, ignoring text that might be navigation related. \\\n",
    "Respond in markdown.\"\n",
    "\n",
    "def user_prompt_for(website):\n",
    "  user_prompt = f\"You are looking at a website titled {website.title}\"\n",
    "  user_prompt += \"\\nThe contents of this website is as follows; \\\n",
    "  please provide a short summary of this website in markdown. \\\n",
    "  If it includes news or announcements, then summarize these too.\\n\\n\"\n",
    "  user_prompt += website.text\n",
    "  return user_prompt\n",
    "\n",
    "user_prompt = user_prompt_for(ed)\n",
    "\n",
    "openai = OpenAI(\n",
    "  api_key=api_key,\n",
    "  base_url=\"https://api.groq.com/openai/v1\"\n",
    ")\n",
    "response = openai.chat.completions.create(model=\"llama-3.1-8b-instant\", messages=[\n",
    "  { \"role\": \"system\", \"content\": system_prompt },\n",
    "  { \"role\": \"user\", \"content\": user_prompt }\n",
    "])\n",
    "print(response.choices[0].message.content)"
   ]
  }
 ],
 "metadata": {
  "kernelspec": {
   "display_name": "Python 3 (ipykernel)",
   "language": "python",
   "name": "python3"
  },
  "language_info": {
   "codemirror_mode": {
    "name": "ipython",
    "version": 3
   },
   "file_extension": ".py",
   "mimetype": "text/x-python",
   "name": "python",
   "nbconvert_exporter": "python",
   "pygments_lexer": "ipython3",
   "version": "3.11.9"
  }
 },
 "nbformat": 4,
 "nbformat_minor": 5
}
