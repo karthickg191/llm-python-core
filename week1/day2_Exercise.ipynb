{
 "cells": [
  {
   "cell_type": "code",
   "execution_count": 2,
   "id": "34b4fb9f",
   "metadata": {
    "vscode": {
     "languageId": "plaintext"
    }
   },
   "outputs": [
    {
     "name": "stdout",
     "output_type": "stream",
     "text": [
      "**Website Summary**\n",
      "=====================================\n",
      "\n",
      "*   **Founder's Bio**: The website is owned by Edward Donner, a co-founder and CTO of Nebula.io. He shares his interests in writing code, experimenting with Large Language Models (LLMs), DJing, amateur electronic music production, and reading Hacker News.\n",
      "*   **About Nebula.io**: Nebula.io applies AI to help people discover their potential and pursue their reason for being. The company has patented its matching model and uses it in a product used by recruiters.\n",
      "*   **News/Announcements**:\n",
      "    *   **September 15, 2025: AI in Production**: Gen AI and Agentic AI on AWS at scale\n",
      "    *   **May 28, 2025: Connecting my courses – become an LLM expert and leader**\n",
      "    *   **May 18, 2025: 2025 AI Executive Briefing**\n",
      "    *   **April 21, 2025: The Complete Agentic AI Engineering Course**\n"
     ]
    }
   ],
   "source": [
    "import requests\n",
    "from bs4 import BeautifulSoup\n",
    "from IPython.display import Markdown, display\n",
    "import ollama"
   ]
  },
  {
   "cell_type": "code",
   "execution_count": null,
   "id": "528e38c1-51c6-40c9-89e6-3d5a9f46b8c6",
   "metadata": {},
   "outputs": [],
   "source": [
    "headers = {\n",
    " \"User-Agent\": \"Mozilla/5.0 (Windows NT 10.0; Win64; x64) AppleWebKit/537.36 (KHTML, like Gecko) Chrome/117.0.0.0 Safari/537.36\"\n",
    "}\n",
    "\n",
    "class Website:\n",
    "\n",
    "  def __init__(self, url):\n",
    "    response = requests.get(url, headers=headers)\n",
    "    soup = BeautifulSoup(response.content, 'html.parser')\n",
    "    self.title = soup.title.string if soup.title else \"No title found\"\n",
    "    for irrelevant in soup.body([\"script\", \"style\", \"img\", \"input\"]):\n",
    "      irrelevant.decompose()\n",
    "    self.text = soup.body.get_text(separator=\"\\n\", strip=True)\n",
    "\n",
    "def user_prompt_for(website):\n",
    "  user_prompt = f\"You are looking at a website titled {website.title}\"\n",
    "  user_prompt += \"\\nThe contents of this website is as follows; \\\n",
    "  please provide a short summary of this website in markdown. \\\n",
    "  If it includes news or announcements, then summarize these too.\\n\\n\"\n",
    "  user_prompt += website.text\n",
    "  return user_prompt"
   ]
  },
  {
   "cell_type": "code",
   "execution_count": null,
   "id": "bfe6e268-e924-4ef5-8ece-bfd5a17af1c3",
   "metadata": {},
   "outputs": [],
   "source": [
    "ed = Website(\"https://edwarddonner.com\")\n",
    "system_prompt = \"You are an assistant that analyzes the contents of a website \\\n",
    "and provides a short summary, ignoring text that might be navigation related. \\\n",
    "Respond in markdown.\"\n",
    "user_prompt = user_prompt_for(ed)\n",
    "# OLLAMA_API = \"http://localhost:11434/api/chat\"\n",
    "# HEADERS = {\"Content-Type\": \"application/json\"}\n",
    "MODEL = \"llama3.2\"\n",
    "messages = [\n",
    "  {\"role\": \"system\", \"content\": system_prompt},\n",
    "  {\"role\": \"user\", \"content\": user_prompt}\n",
    "]\n",
    "response = ollama.chat(MODEL, messages)\n",
    "print(response['message']['content'])"
   ]
  }
 ],
 "metadata": {
  "kernelspec": {
   "display_name": "Python 3 (ipykernel)",
   "language": "python",
   "name": "python3"
  },
  "language_info": {
   "codemirror_mode": {
    "name": "ipython",
    "version": 3
   },
   "file_extension": ".py",
   "mimetype": "text/x-python",
   "name": "python",
   "nbconvert_exporter": "python",
   "pygments_lexer": "ipython3",
   "version": "3.11.9"
  }
 },
 "nbformat": 4,
 "nbformat_minor": 5
}
